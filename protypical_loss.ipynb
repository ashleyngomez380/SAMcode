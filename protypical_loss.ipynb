{
  "nbformat": 4,
  "nbformat_minor": 0,
  "metadata": {
    "colab": {
      "provenance": [],
      "include_colab_link": true
    },
    "kernelspec": {
      "name": "python3",
      "display_name": "Python 3"
    },
    "language_info": {
      "name": "python"
    }
  },
  "cells": [
    {
      "cell_type": "markdown",
      "metadata": {
        "id": "view-in-github",
        "colab_type": "text"
      },
      "source": [
        "<a href=\"https://colab.research.google.com/github/ashleyngomez380/SAMcode/blob/main/protypical_loss.ipynb\" target=\"_parent\"><img src=\"https://colab.research.google.com/assets/colab-badge.svg\" alt=\"Open In Colab\"/></a>"
      ]
    },
    {
      "cell_type": "code",
      "execution_count": 1,
      "metadata": {
        "id": "EWEHMGjy8N53"
      },
      "outputs": [],
      "source": [
        "import torch\n",
        "import torch.nn.functional as nn"
      ]
    },
    {
      "cell_type": "code",
      "source": [
        "data = torch.randn((100,64))"
      ],
      "metadata": {
        "id": "AyBvisH-8PkP"
      },
      "execution_count": 2,
      "outputs": []
    },
    {
      "cell_type": "code",
      "source": [
        "label = torch.cat((torch.zeros((50,1)),torch.ones((50,1)))).int()\n",
        "label.shape"
      ],
      "metadata": {
        "id": "YQ6f5cnx8ahj",
        "colab": {
          "base_uri": "https://localhost:8080/"
        },
        "outputId": "2b22a090-2fcd-46d5-d1dd-8e391dd72349"
      },
      "execution_count": 3,
      "outputs": [
        {
          "output_type": "execute_result",
          "data": {
            "text/plain": [
              "torch.Size([100, 1])"
            ]
          },
          "metadata": {},
          "execution_count": 3
        }
      ]
    },
    {
      "cell_type": "code",
      "source": [
        "uniqueL = label.unique()\n",
        "label_list = uniqueL.squeeze()\n",
        "label_list"
      ],
      "metadata": {
        "colab": {
          "base_uri": "https://localhost:8080/"
        },
        "id": "BVd4Vqqt8CV-",
        "outputId": "414bc234-0184-4629-af06-eec464d33d83"
      },
      "execution_count": 4,
      "outputs": [
        {
          "output_type": "execute_result",
          "data": {
            "text/plain": [
              "tensor([0, 1], dtype=torch.int32)"
            ]
          },
          "metadata": {},
          "execution_count": 4
        }
      ]
    },
    {
      "cell_type": "code",
      "source": [
        "# do not use a list for generating even empty array.\n",
        "# try to use the data strcuture such as torch.zeros, nn.zeros..."
      ],
      "metadata": {
        "id": "h_TbygbP4lIZ"
      },
      "execution_count": 5,
      "outputs": []
    },
    {
      "cell_type": "code",
      "source": [
        "def compute_per_class_centroid(i,label,data):\n",
        "  # i : the target class label\n",
        "  # label: N x 1 vector stores the label\n",
        "  # data: N x 64 embedding vector\n",
        "  # return: 1 x 64 vector which is the sample of average all samples in that class.\n",
        "\n",
        "  # get rid of the extra dimension for label\n",
        "  label1d = label.squeeze()\n",
        "\n",
        "  # given class extracting samples\n",
        "  data_class = data[label1d==i, :]\n",
        "\n",
        "  # compute the average of your class sample\n",
        "  class_centroid  = torch.mean(data_class, 0, True)\n",
        "  return class_centroid"
      ],
      "metadata": {
        "id": "wT7BnWCa_S8J"
      },
      "execution_count": 6,
      "outputs": []
    },
    {
      "cell_type": "code",
      "source": [
        "def compute_class_centroid(label, data):\n",
        "    # i : the target class label\n",
        "    # label: N x 1 vector stores the label\n",
        "    # data: N x 64 embedding vector\n",
        "    # return: C x 64 vector which is the average of all samples, where C is number of class\n",
        "    unique_labels = label.unique().squeeze()\n",
        "    #print(unique_labels)\n",
        "\n",
        "    # initialize centroids tensor with first centroid\n",
        "    centroids = compute_per_class_centroid(unique_labels[0], label, data)\n",
        "    #print(\"Centroids at \", 0, \" = \", centroids.shape)\n",
        "\n",
        "    # add every other class centroid to centroids tensor\n",
        "    for i in range(1, ((len(unique_labels)))):\n",
        "      index = unique_labels[i]\n",
        "      centroids = torch.cat((centroids, compute_per_class_centroid(index, label, data)), dim=0)\n",
        "      #print(\"Centroids at \", i, \" = \", centroids.shape)\n",
        "\n",
        "    return centroids"
      ],
      "metadata": {
        "id": "ILZWLciZ412b"
      },
      "execution_count": 7,
      "outputs": []
    },
    {
      "cell_type": "code",
      "source": [
        "#compute pairwise distance between centroids and data\n",
        "\n",
        "# https://pytorch.org/docs/stable/generated/torch.nn.functional.pairwise_distance.html\n",
        "\n",
        "def distance_matrix(data, centroid):\n",
        "  # finding number of classes\n",
        "  #unique_labels = label.unique().squeeze()\n",
        "\n",
        "  # distance function\n",
        "  distance = torch.cdist(data,centroid,p=2)\n",
        "\n",
        "  return distance"
      ],
      "metadata": {
        "id": "deJJ99xYTwsO"
      },
      "execution_count": 8,
      "outputs": []
    },
    {
      "cell_type": "code",
      "source": [
        "distance = distance_matrix(data, result)"
      ],
      "metadata": {
        "id": "uIyWkn4hOY18",
        "collapsed": true,
        "colab": {
          "base_uri": "https://localhost:8080/",
          "height": 141
        },
        "outputId": "fa0ca493-1ebb-4a48-edcb-25925ffebcec"
      },
      "execution_count": 9,
      "outputs": [
        {
          "output_type": "error",
          "ename": "NameError",
          "evalue": "name 'result' is not defined",
          "traceback": [
            "\u001b[0;31m---------------------------------------------------------------------------\u001b[0m",
            "\u001b[0;31mNameError\u001b[0m                                 Traceback (most recent call last)",
            "\u001b[0;32m<ipython-input-9-57cae3ad6545>\u001b[0m in \u001b[0;36m<cell line: 1>\u001b[0;34m()\u001b[0m\n\u001b[0;32m----> 1\u001b[0;31m \u001b[0mdistance\u001b[0m \u001b[0;34m=\u001b[0m \u001b[0mdistance_matrix\u001b[0m\u001b[0;34m(\u001b[0m\u001b[0mdata\u001b[0m\u001b[0;34m,\u001b[0m \u001b[0mresult\u001b[0m\u001b[0;34m)\u001b[0m\u001b[0;34m\u001b[0m\u001b[0;34m\u001b[0m\u001b[0m\n\u001b[0m",
            "\u001b[0;31mNameError\u001b[0m: name 'result' is not defined"
          ]
        }
      ]
    },
    {
      "cell_type": "code",
      "source": [
        "# Crossentropy over normalized distance\n",
        "def prototypical_loss(D, labels):\n",
        "  # D: N x C distance matrix where C is number of the class\n",
        "  # Output: Loss function value l\n",
        "  # o = softmax(D)\n",
        "  # return crossentropy(o)\n",
        "\n",
        "  # softmax our distance tensor\n",
        "  softmax = torch.nn.Softmax(dim=1)\n",
        "  o = softmax(D)\n",
        "  #print(o)\n",
        "\n",
        "  # tensor of our classes prediction\n",
        "  _, predicted_classes = torch.min(D, dim=1)\n",
        "  #print(predicted_classes)\n",
        "\n",
        "  # make labels a long data type for CE\n",
        "  labels = labels.squeeze().long()\n",
        "\n",
        "  # cross entropy loss\n",
        "  loss = nn.cross_entropy(D, labels, reduction='mean')\n",
        "\n",
        "  return loss"
      ],
      "metadata": {
        "id": "k0y-ZOcF9o32"
      },
      "execution_count": 10,
      "outputs": []
    },
    {
      "cell_type": "code",
      "source": [
        "loss = prototypical_loss(distance, label)\n",
        "loss"
      ],
      "metadata": {
        "colab": {
          "base_uri": "https://localhost:8080/",
          "height": 159
        },
        "collapsed": true,
        "id": "iD5EPEvhQb8L",
        "outputId": "7f598187-9287-432e-fcf4-3946b05f54ba"
      },
      "execution_count": 11,
      "outputs": [
        {
          "output_type": "error",
          "ename": "NameError",
          "evalue": "name 'distance' is not defined",
          "traceback": [
            "\u001b[0;31m---------------------------------------------------------------------------\u001b[0m",
            "\u001b[0;31mNameError\u001b[0m                                 Traceback (most recent call last)",
            "\u001b[0;32m<ipython-input-11-8ea491bbf2e0>\u001b[0m in \u001b[0;36m<cell line: 1>\u001b[0;34m()\u001b[0m\n\u001b[0;32m----> 1\u001b[0;31m \u001b[0mloss\u001b[0m \u001b[0;34m=\u001b[0m \u001b[0mprototypical_loss\u001b[0m\u001b[0;34m(\u001b[0m\u001b[0mdistance\u001b[0m\u001b[0;34m,\u001b[0m \u001b[0mlabel\u001b[0m\u001b[0;34m)\u001b[0m\u001b[0;34m\u001b[0m\u001b[0;34m\u001b[0m\u001b[0m\n\u001b[0m\u001b[1;32m      2\u001b[0m \u001b[0mloss\u001b[0m\u001b[0;34m\u001b[0m\u001b[0;34m\u001b[0m\u001b[0m\n",
            "\u001b[0;31mNameError\u001b[0m: name 'distance' is not defined"
          ]
        }
      ]
    }
  ]
}